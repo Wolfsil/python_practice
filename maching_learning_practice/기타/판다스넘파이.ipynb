{
 "cells": [
  {
   "cell_type": "code",
   "execution_count": 22,
   "metadata": {},
   "outputs": [],
   "source": [
    "#####넘파이######"
   ]
  },
  {
   "cell_type": "code",
   "execution_count": 23,
   "metadata": {},
   "outputs": [
    {
     "name": "stdout",
     "output_type": "stream",
     "text": [
      "랜덤 넘파이 배열:  [[ 0.47143516 -1.19097569  1.43270697]\n",
      " [-0.3126519  -0.72058873  0.88716294]]\n",
      "넘파이 연산:  [[ 0.94287033 -2.38195139  2.86541394]\n",
      " [-0.62530379 -1.44117747  1.77432588]]\n",
      "자료형과 형태와 차원:  float64 (2, 3) 2\n"
     ]
    }
   ],
   "source": [
    "import numpy as np\n",
    "data=np.random.randn(2,3)\n",
    "\n",
    "print(\"랜덤 넘파이 배열: \", data)\n",
    "print(\"넘파이 연산: \" ,data + data)\n",
    "print(\"자료형과 형태와 차원: \",data.dtype, data.shape, data.ndim)"
   ]
  },
  {
   "cell_type": "code",
   "execution_count": 24,
   "metadata": {},
   "outputs": [
    {
     "name": "stdout",
     "output_type": "stream",
     "text": [
      "[1.  2.  3.5 4.  5. ] \n",
      " [[1. 2. 3. 4.]\n",
      " [5. 6. 7. 8.]]\n",
      "[1000.    2.    1.]\n"
     ]
    }
   ],
   "source": [
    "#배열로 부터 넘파이 배열 생성\n",
    "data1 = [1, 2, 3.5, 4, 5]\n",
    "data2 = [[1, 2, 3, 4], [5, 6, 7, 8]]\n",
    "\n",
    "arr = np.array(data1,dtype=float)#자료형을 지정하는 법\n",
    "arr2 = np.array(data2)\n",
    "arr2=arr2.astype(np.float64)\n",
    "arr3=np.array([\"1000.0\",\"2\",1]).astype(float)\n",
    "print(arr,\"\\n\", arr2)\n",
    "print(arr3)"
   ]
  },
  {
   "cell_type": "code",
   "execution_count": 25,
   "metadata": {},
   "outputs": [
    {
     "name": "stdout",
     "output_type": "stream",
     "text": [
      "[0. 0. 0. 0. 0. 0. 0. 0. 0. 0.]\n",
      "[[1. 1. 1.]\n",
      " [1. 1. 1.]]\n",
      "[0 1 2 3 4 5 6 7 8 9]\n",
      "[[ 0.85958841 -0.6365235   0.01569637]\n",
      " [-2.24268495  1.15003572  0.99194602]]\n"
     ]
    }
   ],
   "source": [
    "\n",
    "print(np.zeros(10))\n",
    "print(np.ones((2, 3)))\n",
    "print(np.arange(10))\n",
    "print(np.random.randn(2, 3))"
   ]
  },
  {
   "cell_type": "code",
   "execution_count": 26,
   "metadata": {},
   "outputs": [
    {
     "name": "stdout",
     "output_type": "stream",
     "text": [
      "[5 6 7]\n",
      "[0 1 2 3 4 5 6 7 8 9]\n"
     ]
    }
   ],
   "source": [
    "#슬라이싱\n",
    "arr = np.arange(10)\n",
    "print(arr[5:8])\n",
    "print(arr)"
   ]
  },
  {
   "cell_type": "code",
   "execution_count": 27,
   "metadata": {},
   "outputs": [
    {
     "name": "stdout",
     "output_type": "stream",
     "text": [
      "[[ 0.95332413 -2.02125482 -0.33407737]\n",
      " [ 0.00211836  0.40545341  0.28909194]\n",
      " [ 1.32115819 -1.54690555 -0.20264632]]\n",
      "[[ 1.95332413 -1.02125482  0.66592263]\n",
      " [ 2.00211836  2.40545341  2.28909194]\n",
      " [ 4.32115819  1.45309445  2.79735368]]\n",
      "[[-2.02125482]\n",
      " [ 0.40545341]]\n"
     ]
    }
   ],
   "source": [
    "#넘파이 연산, 슬라이싱 심화\n",
    "arr=np.random.randn(3, 3)\n",
    "print(arr)\n",
    "print(arr+[[1],[2],[3]])\n",
    "print(arr[0:2,1:2])"
   ]
  },
  {
   "cell_type": "code",
   "execution_count": 28,
   "metadata": {},
   "outputs": [
    {
     "data": {
      "text/plain": [
       "array([[-0.65596934],\n",
       "       [ 0.19342138],\n",
       "       [ 0.55343891],\n",
       "       [ 1.31815155],\n",
       "       [-0.46930528],\n",
       "       [ 0.67555409],\n",
       "       [-1.81702723],\n",
       "       [-0.18310854],\n",
       "       [ 1.05896919]])"
      ]
     },
     "execution_count": 28,
     "metadata": {},
     "output_type": "execute_result"
    }
   ],
   "source": [
    "#리쉐잎\n",
    "arr=np.random.randn(3, 3)\n",
    "arr.reshape(arr.size,1)"
   ]
  },
  {
   "cell_type": "code",
   "execution_count": 29,
   "metadata": {},
   "outputs": [
    {
     "name": "stdout",
     "output_type": "stream",
     "text": [
      "[[0.         1.         1.41421356 1.73205081 2.        ]\n",
      " [2.23606798 2.44948974 2.64575131 2.82842712 3.        ]\n",
      " [3.16227766 3.31662479 3.46410162 3.60555128 3.74165739]]\n",
      "\n",
      "[[1.00000000e+00 2.71828183e+00 7.38905610e+00 2.00855369e+01\n",
      "  5.45981500e+01]\n",
      " [1.48413159e+02 4.03428793e+02 1.09663316e+03 2.98095799e+03\n",
      "  8.10308393e+03]\n",
      " [2.20264658e+04 5.98741417e+04 1.62754791e+05 4.42413392e+05\n",
      "  1.20260428e+06]]\n",
      "\n",
      "14\n"
     ]
    }
   ],
   "source": [
    "#연산\n",
    "arr = np.arange(15).reshape((3, 5))\n",
    "print(np.sqrt(arr))\n",
    "print()\n",
    "print(np.exp(arr))\n",
    "print()\n",
    "print(arr.max())"
   ]
  },
  {
   "cell_type": "code",
   "execution_count": 30,
   "metadata": {},
   "outputs": [
    {
     "data": {
      "text/plain": [
       "array([[-2.        ,  0.33743765,  1.04757857,  1.04593826],\n",
       "       [ 0.86371729, -2.        ,  0.12471295, -2.        ],\n",
       "       [ 0.84167471,  2.39096052,  0.07619959, -2.        ],\n",
       "       [ 0.03614194, -2.        ,  0.2477922 , -2.        ]])"
      ]
     },
     "execution_count": 30,
     "metadata": {},
     "output_type": "execute_result"
    }
   ],
   "source": [
    "#내가 만드는 함수\n",
    "arr = np.random.randn(4, 4)\n",
    "np.where(arr<0,-2,arr)"
   ]
  },
  {
   "cell_type": "code",
   "execution_count": null,
   "metadata": {},
   "outputs": [],
   "source": []
  },
  {
   "cell_type": "code",
   "execution_count": 31,
   "metadata": {},
   "outputs": [],
   "source": [
    "#####판다스######\n"
   ]
  },
  {
   "cell_type": "code",
   "execution_count": 32,
   "metadata": {},
   "outputs": [
    {
     "name": "stdout",
     "output_type": "stream",
     "text": [
      "RangeIndex(start=0, stop=4, step=1)\n",
      "[-5  0 10  3]\n",
      "0    -5\n",
      "1     0\n",
      "2    10\n",
      "3     3\n",
      "dtype: int64\n"
     ]
    }
   ],
   "source": [
    "import pandas as pd\n",
    "import numpy as np\n",
    "np.random.seed(1234)\n",
    "obj = pd.Series([-5, 0, 10, 3])\n",
    "print(obj.index,obj.values,obj, sep=\"\\n\")\n",
    "\n",
    "#이런 방식의 생성도 가능\n",
    "인구 = {'서울': 9776, '부산':3429, '대전':1531, '세종':276, '충남':2148, '대구':2465}\n",
    "시리3 = pd.Series(인구)\n",
    "print(시리3,시리3.isnull(),sep=\"\\n\")\n"
   ]
  },
  {
   "cell_type": "code",
   "execution_count": 33,
   "metadata": {},
   "outputs": [
    {
     "name": "stdout",
     "output_type": "stream",
     "text": [
      "Index(['a', 'b', 'd', 'c'], dtype='object')\n",
      "[-5  0 10  3]\n",
      "a    -5\n",
      "b     0\n",
      "d    10\n",
      "c     3\n",
      "dtype: int64\n"
     ]
    }
   ],
   "source": [
    "obj = pd.Series([-5, 0, 10, 3], index=['a', 'b', 'd', 'c'])#인덱스 지정\n",
    "print(obj.index,obj.values,obj, sep=\"\\n\")"
   ]
  },
  {
   "cell_type": "code",
   "execution_count": 41,
   "metadata": {},
   "outputs": [
    {
     "name": "stdout",
     "output_type": "stream",
     "text": [
      "a    -5\n",
      "d    10\n",
      "c     3\n",
      "dtype: int64\n",
      "a   -10\n",
      "b     0\n",
      "d    20\n",
      "c     6\n",
      "dtype: int64\n",
      "True\n",
      "a        0.006738\n",
      "b        1.000000\n",
      "d    22026.465795\n",
      "c       20.085537\n",
      "dtype: float64\n"
     ]
    }
   ],
   "source": [
    "#연산\n",
    "obj = pd.Series([-5, 0, 10, 3], index=['a', 'b', 'd', 'c'])#인덱스 지정\n",
    "\n",
    "print(obj[['a', 'd', 'c']], obj * 2, \"a\" in obj,np.exp(obj) , sep=\"\\n\")\n",
    "\n"
   ]
  },
  {
   "cell_type": "code",
   "execution_count": 50,
   "metadata": {},
   "outputs": [
    {
     "name": "stdout",
     "output_type": "stream",
     "text": [
      "   지역    년도    인구\n",
      "0  대전  2015  1542\n",
      "1  대전  2016  1535\n",
      "2  대전  2017  1531\n",
      "3  서울  2015  9941\n",
      "4  서울  2016  9852\n",
      "5  서울  2017  9776\n",
      "0    대전\n",
      "1    대전\n",
      "2    대전\n",
      "3    서울\n",
      "4    서울\n",
      "5    서울\n",
      "Name: 지역, dtype: object\n",
      "지역      대전\n",
      "년도    2016\n",
      "인구    1535\n",
      "Name: 1, dtype: object\n",
      "   지역    년도    인구  자산\n",
      "0  대전  2015  1542  20\n",
      "1  대전  2016  1535  20\n",
      "2  대전  2017  1531  20\n",
      "3  서울  2015  9941  20\n",
      "4  서울  2016  9852  20\n",
      "5  서울  2017  9776  20\n",
      "   지역    년도    인구\n",
      "0  대전  2015  1542\n",
      "1  대전  2016  1535\n",
      "2  대전  2017  1531\n",
      "3  서울  2015  9941\n",
      "4  서울  2016  9852\n",
      "5  서울  2017  9776\n"
     ]
    }
   ],
   "source": [
    "#데이터 프레임\n",
    "데이터 = {\n",
    "    '지역': ['대전', '대전', '대전', '서울', '서울', '서울'],\n",
    "    '년도': [2015, 2016, 2017, 2015, 2016, 2017],\n",
    "    '인구': [1542, 1535, 1531, 9941, 9852, 9776]}\n",
    "프레임 = pd.DataFrame(데이터)\n",
    "print(프레임)\n",
    "print(프레임[\"지역\"])#열접근\n",
    "print(프레임.loc[1])#행접근\n",
    "프레임['자산'] = 20#행추가( 프레임.자산 = np.arange(6) )\n",
    "print(프레임)\n",
    "프레임=프레임.drop(\"자산\",axis=1)\n",
    "print(프레임)"
   ]
  },
  {
   "cell_type": "code",
   "execution_count": null,
   "metadata": {},
   "outputs": [],
   "source": [
    "시1 = pd.Series(range(5), index=['ㄱ', 'ㄴ', 'ㄷ', 'ㄹ', 'ㅂ'])\n",
    "시2 = pd.Series(range(1, 10, 2), index=['ㄱ', 'ㄴ', 'ㄷ', 'ㅁ', 'ㅅ'])\n",
    "시1 + 시2#보다시피 어느 한쪽이라도 정의 안되면 연산을 해도 그 쪽은 NaN이다"
   ]
  },
  {
   "cell_type": "code",
   "execution_count": 34,
   "metadata": {},
   "outputs": [],
   "source": [
    "#####판다스 그룹핑 스킬#####"
   ]
  },
  {
   "cell_type": "code",
   "execution_count": 35,
   "metadata": {},
   "outputs": [
    {
     "name": "stdout",
     "output_type": "stream",
     "text": [
      "원본배열: \n",
      "   key1 key2     data1     data2\n",
      "0    a  one  1.764052 -0.977278\n",
      "1    a  two  0.400157  0.950088\n",
      "2    b  one  0.978738 -0.151357\n",
      "3    b  two  2.240893 -0.103219\n",
      "4    a  one  1.867558  0.410599\n",
      "그룹의 표현과 연산\n",
      "{'a': [0, 1, 4], 'b': [2, 3]}\n",
      "key1\n",
      "a    4.031768\n",
      "b    3.219631\n",
      "Name: data1, dtype: float64\n",
      "그룹의 순서쌍 분류\n",
      "key1  key2\n",
      "a     one     3.631610\n",
      "      two     0.400157\n",
      "b     one     0.978738\n",
      "      two     2.240893\n",
      "Name: data1, dtype: float64\n",
      "어떤 배열을 연산할건지 적지 않을 경우\n",
      "              data1     data2\n",
      "key1 key2                    \n",
      "a    one   3.631610 -0.566679\n",
      "     two   0.400157  0.950088\n",
      "b    one   0.978738 -0.151357\n",
      "     two   2.240893 -0.103219\n"
     ]
    }
   ],
   "source": [
    "#그룹 연산 해보기\n",
    "import pandas as pd\n",
    "import numpy as np\n",
    "np.random.seed(0)\n",
    "df = pd.DataFrame({'key1' : ['a', 'a', 'b', 'b', 'a'],\n",
    "                   'key2' : ['one', 'two', 'one', 'two', 'one'],\n",
    "                   'data1' : np.random.randn(5),\n",
    "                   'data2' : np.random.randn(5)})\n",
    "print(\"원본배열: \\n\",df)\n",
    "\n",
    "#디폴트로 같은 속성의 행을 묶는다.\n",
    "grouped = df['data1'].groupby(by=df['key1'])\n",
    "print(\"그룹의 표현과 연산\")\n",
    "print(grouped.groups)\n",
    "print(grouped.sum())\n",
    "print(\"그룹의 순서쌍 분류\")\n",
    "print(df['data1'].groupby([df['key1'], df['key2']]).sum())\n",
    "print(\"어떤 배열을 연산할건지 적지 않을 경우\")\n",
    "print(df.groupby(by=['key1', 'key2']).sum())"
   ]
  },
  {
   "cell_type": "code",
   "execution_count": 36,
   "metadata": {},
   "outputs": [
    {
     "name": "stdout",
     "output_type": "stream",
     "text": [
      "------------------------------\n",
      "a\n",
      "  key1 key2     data1     data2\n",
      "0    a  one  1.764052 -0.977278\n",
      "1    a  two  0.400157  0.950088\n",
      "4    a  one  1.867558  0.410599\n",
      "------------------------------\n",
      "b\n",
      "  key1 key2     data1     data2\n",
      "2    b  one  0.978738 -0.151357\n",
      "3    b  two  2.240893 -0.103219\n"
     ]
    }
   ],
   "source": [
    "\n",
    "for name, data in df.groupby('key1'):\n",
    "    print(\"------------------------------\")\n",
    "    print(name)\n",
    "    print(data)"
   ]
  },
  {
   "cell_type": "code",
   "execution_count": 37,
   "metadata": {},
   "outputs": [
    {
     "name": "stdout",
     "output_type": "stream",
     "text": [
      "               a         b         c         d         e\n",
      "Joe     0.144044  1.454274  0.761038  0.121675  0.443863\n",
      "Steve   0.333674  1.494079 -0.205158  0.313068 -0.854096\n",
      "Wes    -2.552990       NaN       NaN -0.742165  2.269755\n",
      "Jim    -1.454366  0.045759 -0.187184  1.532779  1.469359\n",
      "Travis  0.154947  0.378163 -0.887786 -1.980796 -0.347912\n",
      "{'blue': ['c', 'd'], 'red': ['a', 'b', 'e']}\n",
      "   a  b  c  d  e\n",
      "3  3  2  2  3  3\n",
      "5  1  1  1  1  1\n",
      "6  1  1  1  1  1\n"
     ]
    }
   ],
   "source": [
    "people = pd.DataFrame(np.random.randn(5, 5),\n",
    "                       columns=['a', 'b', 'c', 'd', 'e'],\n",
    "                       index=['Joe', 'Steve', 'Wes', 'Jim', 'Travis'])\n",
    "people.iloc[2, [1, 2]] = np.nan\n",
    "print(people)\n",
    "\n",
    "mapping = {'a': 'red', 'b': 'red', 'c': 'blue', 'd': 'blue', 'e': 'red', 'f' : 'orange'}\n",
    "print(people.groupby(mapping, axis=1).groups)#즉 동일한 그룹의 열로 묶을 수 있다\n",
    "print(people.groupby(len).count())#함수로 묶는 것도 가능"
   ]
  },
  {
   "cell_type": "code",
   "execution_count": 38,
   "metadata": {},
   "outputs": [
    {
     "name": "stdout",
     "output_type": "stream",
     "text": [
      "cty          US                            JP          \n",
      "tenor         1         3         5         1         3\n",
      "count  4.000000  4.000000  4.000000  4.000000  4.000000\n",
      "mean  -0.556436 -0.263905 -0.059301 -0.307770 -0.263219\n",
      "std    0.541354  1.287203  1.317627  1.589047  0.200039\n",
      "min   -1.048553 -1.420018 -1.706270 -1.613898 -0.509652\n",
      "25%   -0.933738 -1.294601 -0.809671 -1.288949 -0.354140\n",
      "50%   -0.666770 -0.432946  0.133343 -0.783980 -0.257522\n",
      "75%   -0.289468  0.597750  0.883713  0.197199 -0.166601\n",
      "max    0.156349  1.230291  1.202380  1.950775 -0.028182\n"
     ]
    }
   ],
   "source": [
    "columns = pd.MultiIndex.from_arrays([['US', 'US', 'US', 'JP', 'JP'],\n",
    "                                     [1, 3, 5, 1, 3]],\n",
    "                                    names=['cty', 'tenor'])#그룹을 만들때 부터 만드는 것도 가능\n",
    "hier_df = pd.DataFrame(np.random.randn(4, 5), columns=columns)\n",
    "print(hier_df.describe())"
   ]
  },
  {
   "cell_type": "code",
   "execution_count": 39,
   "metadata": {},
   "outputs": [
    {
     "name": "stdout",
     "output_type": "stream",
     "text": [
      "          a         b         c         d         e\n",
      "3 -3.863312  1.500032  0.573854  0.912289  4.182977\n",
      "5  0.333674  1.494079 -0.205158  0.313068 -0.854096\n",
      "6  0.154947  0.378163 -0.887786 -1.980796 -0.347912\n",
      "          a         b         c         d         e\n",
      "3  2.697033  1.408515  0.948222  2.274944  1.825891\n",
      "5  0.000000  0.000000  0.000000  0.000000  0.000000\n",
      "6  0.000000  0.000000  0.000000  0.000000  0.000000\n"
     ]
    }
   ],
   "source": [
    "#본격적인 자료 집계\n",
    "people.fillna(0)#일단 널값은 복구\n",
    "grouped = people.groupby(len)\n",
    "print(grouped.sum())\n",
    "def peak_to_peak(arr):\n",
    "    return arr.max() - arr.min()\n",
    "print(grouped.agg(peak_to_peak))#내가 만든 함수를 적용하고 싶을때\n",
    "\n"
   ]
  },
  {
   "cell_type": "code",
   "execution_count": null,
   "metadata": {},
   "outputs": [],
   "source": [
    "#맷플로잇"
   ]
  },
  {
   "cell_type": "code",
   "execution_count": 51,
   "metadata": {},
   "outputs": [
    {
     "data": {
      "text/plain": [
       "[<matplotlib.lines.Line2D at 0x264157bda60>]"
      ]
     },
     "execution_count": 51,
     "metadata": {},
     "output_type": "execute_result"
    },
    {
     "data": {
      "image/png": "[encoded data removed]",
      "text/plain": [
       "<Figure size 640x480 with 1 Axes>"
      ]
     },
     "metadata": {},
     "output_type": "display_data"
    }
   ],
   "source": [
    "\n",
    "import matplotlib.pyplot as plt\n",
    "import numpy as np\n",
    "data = np.arange(10)\n",
    "plt.plot(data)"
   ]
  },
  {
   "cell_type": "code",
   "execution_count": 57,
   "metadata": {},
   "outputs": [
    {
     "data": {
      "image/png": "[encoded data removed]",
      "text/plain": [
       "<Figure size 640x480 with 2 Axes>"
      ]
     },
     "metadata": {},
     "output_type": "display_data"
    }
   ],
   "source": [
    "#분할보기\n",
    "import matplotlib.pyplot as plt\n",
    "data = np.random.randn(30).cumsum()\n",
    "fig = plt.figure()\n",
    "ax1 = fig.add_subplot(2, 1, 1)\n",
    "ax1.plot(data, 'ko--')\n",
    "ax2 = fig.add_subplot(2, 1, 2)\n",
    "ax2.plot(data, drawstyle='steps-post')\n",
    "plt.show()"
   ]
  },
  {
   "cell_type": "code",
   "execution_count": 63,
   "metadata": {},
   "outputs": [
    {
     "data": {
      "text/plain": [
       "<AxesSubplot:>"
      ]
     },
     "execution_count": 63,
     "metadata": {},
     "output_type": "execute_result"
    },
    {
     "data": {
      "image/png": "[encoded data removed]",
      "text/plain": [
       "<Figure size 640x480 with 1 Axes>"
      ]
     },
     "metadata": {},
     "output_type": "display_data"
    }
   ],
   "source": [
    "\n",
    "import matplotlib.pyplot as plt\n",
    "import numpy as np\n",
    "df = pd.DataFrame(np.random.rand(6, 4),\n",
    "                  index=['one', 'two', 'three', 'four', 'five', 'six'],\n",
    "                  columns=pd.Index(['A', 'B', 'C', 'D'], name='Genus'))\n",
    "df.plot.bar()"
   ]
  }
 ],
 "metadata": {
  "kernelspec": {
   "display_name": "Python 3.9.13 ('env')",
   "language": "python",
   "name": "python3"
  },
  "language_info": {
   "codemirror_mode": {
    "name": "ipython",
    "version": 3
   },
   "file_extension": ".py",
   "mimetype": "text/x-python",
   "name": "python",
   "nbconvert_exporter": "python",
   "pygments_lexer": "ipython3",
   "version": "3.9.13"
  },
  "orig_nbformat": 4,
  "vscode": {
   "interpreter": {
    "hash": "dc407bb2b50143e22709a3cda124c29410e738a588b4fcd4beb748f4da074135"
   }
  }
 },
 "nbformat": 4,
 "nbformat_minor": 2
}
